{
 "cells": [
  {
   "cell_type": "code",
   "execution_count": 51,
   "id": "7ac40caa",
   "metadata": {},
   "outputs": [],
   "source": [
    "import pandas as pd\n",
    "import numpy as np\n",
    "import matplotlib.pyplot as plt  #visualisation\n",
    "import seaborn as sns\n",
    "import os\n",
    "import json   # to save the project data\n",
    "import pickle  # to save the model\n",
    "import re\n",
    "\n",
    "#standardization and normalization\n",
    "from sklearn.preprocessing import StandardScaler,MinMaxScaler\n",
    "\n",
    "#machine learning model import\n",
    "from sklearn.neighbors import KNeighborsClassifier\n",
    "from sklearn.tree import DecisionTreeClassifier\n",
    "from sklearn.linear_model import LogisticRegression\n",
    "\n",
    "#model training and hyper parameter tuning\n",
    "from sklearn.model_selection import train_test_split,GridSearchCV,RandomizedSearchCV\n",
    "\n",
    "#Evaluation parameters\n",
    "from sklearn.metrics import mean_squared_error,mean_absolute_error,r2_score\n",
    "from sklearn.metrics import accuracy_score,confusion_matrix,classification_report\n",
    "\n",
    "#feature selection techniques\n",
    "from sklearn.decomposition import PCA\n",
    "\n",
    "import warnings\n",
    "warnings.filterwarnings(\"ignore\")"
   ]
  },
  {
   "cell_type": "code",
   "execution_count": 2,
   "id": "54614774",
   "metadata": {},
   "outputs": [],
   "source": [
    "pd.set_option(\"display.max_rows\",None)"
   ]
  },
  {
   "cell_type": "markdown",
   "id": "90b89fd1",
   "metadata": {},
   "source": [
    "### Problem statement"
   ]
  },
  {
   "cell_type": "raw",
   "id": "456ae98c",
   "metadata": {},
   "source": [
    "predict loan sanction"
   ]
  },
  {
   "cell_type": "markdown",
   "id": "fe58950f",
   "metadata": {},
   "source": [
    "### Data Gathering and validation"
   ]
  },
  {
   "cell_type": "code",
   "execution_count": 3,
   "id": "013d759c",
   "metadata": {},
   "outputs": [
    {
     "data": {
      "text/html": [
       "<div>\n",
       "<style scoped>\n",
       "    .dataframe tbody tr th:only-of-type {\n",
       "        vertical-align: middle;\n",
       "    }\n",
       "\n",
       "    .dataframe tbody tr th {\n",
       "        vertical-align: top;\n",
       "    }\n",
       "\n",
       "    .dataframe thead th {\n",
       "        text-align: right;\n",
       "    }\n",
       "</style>\n",
       "<table border=\"1\" class=\"dataframe\">\n",
       "  <thead>\n",
       "    <tr style=\"text-align: right;\">\n",
       "      <th></th>\n",
       "      <th>\"Loan_ID</th>\n",
       "      <th>Gender</th>\n",
       "      <th>Married</th>\n",
       "      <th>Dependents</th>\n",
       "      <th>Education</th>\n",
       "      <th>Self_Employed</th>\n",
       "      <th>ApplicantIncome</th>\n",
       "      <th>CoapplicantIncome</th>\n",
       "      <th>LoanAmount</th>\n",
       "      <th>Loan_Amount_Term</th>\n",
       "      <th>Credit_History</th>\n",
       "      <th>Property_Area</th>\n",
       "      <th>Loan_Status\"</th>\n",
       "    </tr>\n",
       "  </thead>\n",
       "  <tbody>\n",
       "    <tr>\n",
       "      <th>0</th>\n",
       "      <td>\"LP001002</td>\n",
       "      <td>Male</td>\n",
       "      <td>No</td>\n",
       "      <td>0</td>\n",
       "      <td>Graduate</td>\n",
       "      <td>No</td>\n",
       "      <td>5849</td>\n",
       "      <td>0.0</td>\n",
       "      <td>NaN</td>\n",
       "      <td>360.0</td>\n",
       "      <td>1.0</td>\n",
       "      <td>Urban</td>\n",
       "      <td>Y\"</td>\n",
       "    </tr>\n",
       "    <tr>\n",
       "      <th>1</th>\n",
       "      <td>\"LP001003</td>\n",
       "      <td>Male</td>\n",
       "      <td>Yes</td>\n",
       "      <td>1</td>\n",
       "      <td>Graduate</td>\n",
       "      <td>No</td>\n",
       "      <td>4583</td>\n",
       "      <td>1508.0</td>\n",
       "      <td>128.0</td>\n",
       "      <td>360.0</td>\n",
       "      <td>1.0</td>\n",
       "      <td>Rural</td>\n",
       "      <td>N\"</td>\n",
       "    </tr>\n",
       "    <tr>\n",
       "      <th>2</th>\n",
       "      <td>\"LP001005</td>\n",
       "      <td>Male</td>\n",
       "      <td>Yes</td>\n",
       "      <td>0</td>\n",
       "      <td>Graduate</td>\n",
       "      <td>Yes</td>\n",
       "      <td>3000</td>\n",
       "      <td>0.0</td>\n",
       "      <td>66.0</td>\n",
       "      <td>360.0</td>\n",
       "      <td>1.0</td>\n",
       "      <td>Urban</td>\n",
       "      <td>Y\"</td>\n",
       "    </tr>\n",
       "    <tr>\n",
       "      <th>3</th>\n",
       "      <td>\"LP001006</td>\n",
       "      <td>Male</td>\n",
       "      <td>Yes</td>\n",
       "      <td>0</td>\n",
       "      <td>Not Graduate</td>\n",
       "      <td>No</td>\n",
       "      <td>2583</td>\n",
       "      <td>2358.0</td>\n",
       "      <td>120.0</td>\n",
       "      <td>360.0</td>\n",
       "      <td>1.0</td>\n",
       "      <td>Urban</td>\n",
       "      <td>Y\"</td>\n",
       "    </tr>\n",
       "    <tr>\n",
       "      <th>4</th>\n",
       "      <td>\"LP001008</td>\n",
       "      <td>Male</td>\n",
       "      <td>No</td>\n",
       "      <td>0</td>\n",
       "      <td>Graduate</td>\n",
       "      <td>No</td>\n",
       "      <td>6000</td>\n",
       "      <td>0.0</td>\n",
       "      <td>141.0</td>\n",
       "      <td>360.0</td>\n",
       "      <td>1.0</td>\n",
       "      <td>Urban</td>\n",
       "      <td>Y\"</td>\n",
       "    </tr>\n",
       "  </tbody>\n",
       "</table>\n",
       "</div>"
      ],
      "text/plain": [
       "    \"Loan_ID Gender Married Dependents     Education Self_Employed  \\\n",
       "0  \"LP001002   Male      No          0      Graduate            No   \n",
       "1  \"LP001003   Male     Yes          1      Graduate            No   \n",
       "2  \"LP001005   Male     Yes          0      Graduate           Yes   \n",
       "3  \"LP001006   Male     Yes          0  Not Graduate            No   \n",
       "4  \"LP001008   Male      No          0      Graduate            No   \n",
       "\n",
       "   ApplicantIncome  CoapplicantIncome  LoanAmount  Loan_Amount_Term  \\\n",
       "0             5849                0.0         NaN             360.0   \n",
       "1             4583             1508.0       128.0             360.0   \n",
       "2             3000                0.0        66.0             360.0   \n",
       "3             2583             2358.0       120.0             360.0   \n",
       "4             6000                0.0       141.0             360.0   \n",
       "\n",
       "   Credit_History Property_Area Loan_Status\"  \n",
       "0             1.0         Urban           Y\"  \n",
       "1             1.0         Rural           N\"  \n",
       "2             1.0         Urban           Y\"  \n",
       "3             1.0         Urban           Y\"  \n",
       "4             1.0         Urban           Y\"  "
      ]
     },
     "execution_count": 3,
     "metadata": {},
     "output_type": "execute_result"
    }
   ],
   "source": [
    "df=pd.read_csv(\"train.csv\",sep='[,]',engine='python')\n",
    "df.head()"
   ]
  },
  {
   "cell_type": "markdown",
   "id": "080bc362",
   "metadata": {},
   "source": [
    "### EDA"
   ]
  },
  {
   "cell_type": "code",
   "execution_count": 4,
   "id": "8a2af6f8",
   "metadata": {},
   "outputs": [
    {
     "name": "stdout",
     "output_type": "stream",
     "text": [
      "<class 'pandas.core.frame.DataFrame'>\n",
      "RangeIndex: 614 entries, 0 to 613\n",
      "Data columns (total 13 columns):\n",
      " #   Column             Non-Null Count  Dtype  \n",
      "---  ------             --------------  -----  \n",
      " 0   \"Loan_ID           614 non-null    object \n",
      " 1   Gender             601 non-null    object \n",
      " 2   Married            611 non-null    object \n",
      " 3   Dependents         599 non-null    object \n",
      " 4   Education          614 non-null    object \n",
      " 5   Self_Employed      582 non-null    object \n",
      " 6   ApplicantIncome    614 non-null    int64  \n",
      " 7   CoapplicantIncome  614 non-null    float64\n",
      " 8   LoanAmount         592 non-null    float64\n",
      " 9   Loan_Amount_Term   600 non-null    float64\n",
      " 10  Credit_History     564 non-null    float64\n",
      " 11  Property_Area      614 non-null    object \n",
      " 12  Loan_Status\"       614 non-null    object \n",
      "dtypes: float64(4), int64(1), object(8)\n",
      "memory usage: 62.5+ KB\n"
     ]
    }
   ],
   "source": [
    "df.info()"
   ]
  },
  {
   "cell_type": "code",
   "execution_count": 5,
   "id": "ff07d84f",
   "metadata": {},
   "outputs": [
    {
     "data": {
      "text/plain": [
       "<AxesSubplot:>"
      ]
     },
     "execution_count": 5,
     "metadata": {},
     "output_type": "execute_result"
    },
    {
     "data": {
      "image/png": "[encoded data removed]",
      "text/plain": [
       "<Figure size 1800x360 with 1 Axes>"
      ]
     },
     "metadata": {
      "needs_background": "light"
     },
     "output_type": "display_data"
    }
   ],
   "source": [
    "plt.figure(figsize=(25,5))\n",
    "df.boxplot()"
   ]
  },
  {
   "cell_type": "code",
   "execution_count": 6,
   "id": "aa3a403f",
   "metadata": {},
   "outputs": [
    {
     "data": {
      "text/plain": [
       "\"Loan_ID              0\n",
       "Gender               13\n",
       "Married               3\n",
       "Dependents           15\n",
       "Education             0\n",
       "Self_Employed        32\n",
       "ApplicantIncome       0\n",
       "CoapplicantIncome     0\n",
       "LoanAmount           22\n",
       "Loan_Amount_Term     14\n",
       "Credit_History       50\n",
       "Property_Area         0\n",
       "Loan_Status\"          0\n",
       "dtype: int64"
      ]
     },
     "execution_count": 6,
     "metadata": {},
     "output_type": "execute_result"
    }
   ],
   "source": [
    "df.isna().sum()"
   ]
  },
  {
   "cell_type": "code",
   "execution_count": 56,
   "id": "7bf86bef",
   "metadata": {},
   "outputs": [
    {
     "data": {
      "text/plain": [
       "<AxesSubplot:>"
      ]
     },
     "execution_count": 56,
     "metadata": {},
     "output_type": "execute_result"
    },
    {
     "data": {
      "image/png": "[encoded data removed]",
      "text/plain": [
       "<Figure size 1080x1080 with 2 Axes>"
      ]
     },
     "metadata": {
      "needs_background": "light"
     },
     "output_type": "display_data"
    }
   ],
   "source": [
    "plt.figure(figsize=(15,15))\n",
    "sns.heatmap(df.corr(),annot=True)"
   ]
  },
  {
   "cell_type": "markdown",
   "id": "28ffe619",
   "metadata": {},
   "source": [
    "### Feature Engineering"
   ]
  },
  {
   "cell_type": "markdown",
   "id": "022d530e",
   "metadata": {},
   "source": [
    "##### \"Loan_ID"
   ]
  },
  {
   "cell_type": "code",
   "execution_count": 7,
   "id": "cf2b25d3",
   "metadata": {},
   "outputs": [],
   "source": [
    "#have no effect on the target column since contains all unique values\n",
    "df=df.drop('\"Loan_ID',axis=1)"
   ]
  },
  {
   "cell_type": "markdown",
   "id": "ad47d50e",
   "metadata": {},
   "source": [
    "##### Gender"
   ]
  },
  {
   "cell_type": "code",
   "execution_count": 8,
   "id": "71a3560d",
   "metadata": {},
   "outputs": [],
   "source": [
    "df[\"Gender\"].fillna(df[\"Gender\"].mode()[0],inplace=True)"
   ]
  },
  {
   "cell_type": "code",
   "execution_count": 9,
   "id": "4619a312",
   "metadata": {},
   "outputs": [
    {
     "data": {
      "text/plain": [
       "0"
      ]
     },
     "execution_count": 9,
     "metadata": {},
     "output_type": "execute_result"
    }
   ],
   "source": [
    "df[\"Gender\"].isna().sum()"
   ]
  },
  {
   "cell_type": "code",
   "execution_count": 10,
   "id": "cf70c41c",
   "metadata": {},
   "outputs": [],
   "source": [
    "df[\"Gender\"].replace({\"Male\":1,\"Female\":0},inplace=True)"
   ]
  },
  {
   "cell_type": "code",
   "execution_count": 11,
   "id": "fa5ade06",
   "metadata": {},
   "outputs": [
    {
     "data": {
      "text/plain": [
       "dtype('int64')"
      ]
     },
     "execution_count": 11,
     "metadata": {},
     "output_type": "execute_result"
    }
   ],
   "source": [
    "df[\"Gender\"].dtypes"
   ]
  },
  {
   "cell_type": "markdown",
   "id": "c1399b7e",
   "metadata": {},
   "source": [
    "##### Married"
   ]
  },
  {
   "cell_type": "code",
   "execution_count": 12,
   "id": "80c3f81f",
   "metadata": {},
   "outputs": [],
   "source": [
    "df[\"Married\"].fillna(df[\"Married\"].mode()[0],inplace=True)"
   ]
  },
  {
   "cell_type": "code",
   "execution_count": 13,
   "id": "429bd59d",
   "metadata": {},
   "outputs": [
    {
     "data": {
      "text/plain": [
       "0"
      ]
     },
     "execution_count": 13,
     "metadata": {},
     "output_type": "execute_result"
    }
   ],
   "source": [
    "df[\"Married\"].isna().sum()"
   ]
  },
  {
   "cell_type": "code",
   "execution_count": 14,
   "id": "b24d05c3",
   "metadata": {},
   "outputs": [],
   "source": [
    "df[\"Married\"].replace({\"Yes\":1,\"No\":0},inplace=True)"
   ]
  },
  {
   "cell_type": "code",
   "execution_count": 15,
   "id": "eeb4e3d8",
   "metadata": {},
   "outputs": [
    {
     "data": {
      "text/plain": [
       "dtype('int64')"
      ]
     },
     "execution_count": 15,
     "metadata": {},
     "output_type": "execute_result"
    }
   ],
   "source": [
    "df[\"Married\"].dtypes"
   ]
  },
  {
   "cell_type": "markdown",
   "id": "f4ae252e",
   "metadata": {},
   "source": [
    "##### Dependents"
   ]
  },
  {
   "cell_type": "code",
   "execution_count": 16,
   "id": "6d221049",
   "metadata": {},
   "outputs": [
    {
     "data": {
      "text/plain": [
       "array(['0', '1', '2', '3+', nan], dtype=object)"
      ]
     },
     "execution_count": 16,
     "metadata": {},
     "output_type": "execute_result"
    }
   ],
   "source": [
    "df[\"Dependents\"].unique()"
   ]
  },
  {
   "cell_type": "code",
   "execution_count": 17,
   "id": "a87bf66f",
   "metadata": {},
   "outputs": [],
   "source": [
    "df[\"Dependents\"]=df[\"Dependents\"].str.replace(\"+\",\"\")"
   ]
  },
  {
   "cell_type": "code",
   "execution_count": 18,
   "id": "f9806d88",
   "metadata": {},
   "outputs": [],
   "source": [
    "df[\"Dependents\"].fillna(df[\"Dependents\"].median(),inplace=True)"
   ]
  },
  {
   "cell_type": "code",
   "execution_count": 19,
   "id": "41ebc29b",
   "metadata": {},
   "outputs": [],
   "source": [
    "df[\"Dependents\"]=df[\"Dependents\"].astype(float)"
   ]
  },
  {
   "cell_type": "markdown",
   "id": "cbd069a4",
   "metadata": {},
   "source": [
    "##### Education"
   ]
  },
  {
   "cell_type": "code",
   "execution_count": 20,
   "id": "78c1e312",
   "metadata": {},
   "outputs": [
    {
     "data": {
      "text/plain": [
       "array(['Graduate', 'Not Graduate'], dtype=object)"
      ]
     },
     "execution_count": 20,
     "metadata": {},
     "output_type": "execute_result"
    }
   ],
   "source": [
    "df[\"Education\"].unique()"
   ]
  },
  {
   "cell_type": "code",
   "execution_count": 21,
   "id": "e114b235",
   "metadata": {},
   "outputs": [],
   "source": [
    "df[\"Education\"].replace({'Graduate':1, 'Not Graduate':0},inplace=True)"
   ]
  },
  {
   "cell_type": "markdown",
   "id": "00d721af",
   "metadata": {},
   "source": [
    "##### Self_Employed"
   ]
  },
  {
   "cell_type": "code",
   "execution_count": 22,
   "id": "e18be7be",
   "metadata": {},
   "outputs": [
    {
     "data": {
      "text/plain": [
       "array(['No', 'Yes', nan], dtype=object)"
      ]
     },
     "execution_count": 22,
     "metadata": {},
     "output_type": "execute_result"
    }
   ],
   "source": [
    "df[\"Self_Employed\"].unique()"
   ]
  },
  {
   "cell_type": "code",
   "execution_count": 23,
   "id": "f6735d71",
   "metadata": {},
   "outputs": [],
   "source": [
    "df[\"Self_Employed\"].fillna(df[\"Self_Employed\"].mode()[0],inplace=True)"
   ]
  },
  {
   "cell_type": "code",
   "execution_count": 24,
   "id": "b13c9bb0",
   "metadata": {},
   "outputs": [],
   "source": [
    "df[\"Self_Employed\"].replace({'No':0, 'Yes':1},inplace=True)"
   ]
  },
  {
   "cell_type": "code",
   "execution_count": 25,
   "id": "392482eb",
   "metadata": {},
   "outputs": [
    {
     "name": "stdout",
     "output_type": "stream",
     "text": [
      "<class 'pandas.core.frame.DataFrame'>\n",
      "RangeIndex: 614 entries, 0 to 613\n",
      "Data columns (total 12 columns):\n",
      " #   Column             Non-Null Count  Dtype  \n",
      "---  ------             --------------  -----  \n",
      " 0   Gender             614 non-null    int64  \n",
      " 1   Married            614 non-null    int64  \n",
      " 2   Dependents         614 non-null    float64\n",
      " 3   Education          614 non-null    int64  \n",
      " 4   Self_Employed      614 non-null    int64  \n",
      " 5   ApplicantIncome    614 non-null    int64  \n",
      " 6   CoapplicantIncome  614 non-null    float64\n",
      " 7   LoanAmount         592 non-null    float64\n",
      " 8   Loan_Amount_Term   600 non-null    float64\n",
      " 9   Credit_History     564 non-null    float64\n",
      " 10  Property_Area      614 non-null    object \n",
      " 11  Loan_Status\"       614 non-null    object \n",
      "dtypes: float64(5), int64(5), object(2)\n",
      "memory usage: 57.7+ KB\n"
     ]
    }
   ],
   "source": [
    "df.info()"
   ]
  },
  {
   "cell_type": "markdown",
   "id": "604d6b6a",
   "metadata": {},
   "source": [
    "##### ApplicantIncome"
   ]
  },
  {
   "cell_type": "code",
   "execution_count": 26,
   "id": "ffa6a554",
   "metadata": {},
   "outputs": [
    {
     "data": {
      "text/plain": [
       "count      614.000000\n",
       "mean      5403.459283\n",
       "std       6109.041673\n",
       "min        150.000000\n",
       "25%       2877.500000\n",
       "50%       3812.500000\n",
       "75%       5795.000000\n",
       "max      81000.000000\n",
       "Name: ApplicantIncome, dtype: float64"
      ]
     },
     "execution_count": 26,
     "metadata": {},
     "output_type": "execute_result"
    }
   ],
   "source": [
    "df[\"ApplicantIncome\"].describe()"
   ]
  },
  {
   "cell_type": "code",
   "execution_count": 27,
   "id": "68d1af7e",
   "metadata": {},
   "outputs": [],
   "source": [
    "df[\"ApplicantIncome\"]=np.where(df[\"ApplicantIncome\"]>10000,df[\"ApplicantIncome\"].mean(),df[\"ApplicantIncome\"])"
   ]
  },
  {
   "cell_type": "code",
   "execution_count": 28,
   "id": "9a83e105",
   "metadata": {},
   "outputs": [
    {
     "data": {
      "text/plain": [
       "<AxesSubplot:>"
      ]
     },
     "execution_count": 28,
     "metadata": {},
     "output_type": "execute_result"
    },
    {
     "data": {
      "image/png": "[encoded data removed]",
      "text/plain": [
       "<Figure size 1800x360 with 1 Axes>"
      ]
     },
     "metadata": {
      "needs_background": "light"
     },
     "output_type": "display_data"
    }
   ],
   "source": [
    "plt.figure(figsize=(25,5))\n",
    "df.boxplot()"
   ]
  },
  {
   "cell_type": "markdown",
   "id": "dd767228",
   "metadata": {},
   "source": [
    "##### CoapplicantIncome"
   ]
  },
  {
   "cell_type": "code",
   "execution_count": 29,
   "id": "20dd0c37",
   "metadata": {},
   "outputs": [
    {
     "data": {
      "text/plain": [
       "count      614.000000\n",
       "mean      1621.245798\n",
       "std       2926.248369\n",
       "min          0.000000\n",
       "25%          0.000000\n",
       "50%       1188.500000\n",
       "75%       2297.250000\n",
       "max      41667.000000\n",
       "Name: CoapplicantIncome, dtype: float64"
      ]
     },
     "execution_count": 29,
     "metadata": {},
     "output_type": "execute_result"
    }
   ],
   "source": [
    "df[\"CoapplicantIncome\"].describe()"
   ]
  },
  {
   "cell_type": "code",
   "execution_count": 30,
   "id": "2dc185b5",
   "metadata": {},
   "outputs": [],
   "source": [
    "df[\"CoapplicantIncome\"]=np.where(df[\"CoapplicantIncome\"]>6000,df[\"CoapplicantIncome\"].median(),df[\"CoapplicantIncome\"])"
   ]
  },
  {
   "cell_type": "markdown",
   "id": "90f0b2fd",
   "metadata": {},
   "source": [
    "##### LoanAmount"
   ]
  },
  {
   "cell_type": "code",
   "execution_count": 31,
   "id": "14af99da",
   "metadata": {},
   "outputs": [],
   "source": [
    "df[\"LoanAmount\"].fillna(df[\"LoanAmount\"].median(),inplace=True)"
   ]
  },
  {
   "cell_type": "code",
   "execution_count": 32,
   "id": "5d15c949",
   "metadata": {},
   "outputs": [
    {
     "data": {
      "text/plain": [
       "0"
      ]
     },
     "execution_count": 32,
     "metadata": {},
     "output_type": "execute_result"
    }
   ],
   "source": [
    "df[\"LoanAmount\"].isna().sum()"
   ]
  },
  {
   "cell_type": "markdown",
   "id": "c1be7f1a",
   "metadata": {},
   "source": [
    "##### Loan_Amount_Term"
   ]
  },
  {
   "cell_type": "code",
   "execution_count": 33,
   "id": "ad99149c",
   "metadata": {},
   "outputs": [
    {
     "data": {
      "text/plain": [
       "array([360., 120., 240.,  nan, 180.,  60., 300., 480.,  36.,  84.,  12.])"
      ]
     },
     "execution_count": 33,
     "metadata": {},
     "output_type": "execute_result"
    }
   ],
   "source": [
    "df[\"Loan_Amount_Term\"].unique()"
   ]
  },
  {
   "cell_type": "code",
   "execution_count": 34,
   "id": "838f9847",
   "metadata": {},
   "outputs": [],
   "source": [
    "df[\"Loan_Amount_Term\"].fillna(df[\"Loan_Amount_Term\"].median(),inplace=True)"
   ]
  },
  {
   "cell_type": "markdown",
   "id": "ef6154f6",
   "metadata": {},
   "source": [
    "##### Credit_History"
   ]
  },
  {
   "cell_type": "code",
   "execution_count": 35,
   "id": "30a7f2d9",
   "metadata": {},
   "outputs": [
    {
     "data": {
      "text/plain": [
       "array([ 1.,  0., nan])"
      ]
     },
     "execution_count": 35,
     "metadata": {},
     "output_type": "execute_result"
    }
   ],
   "source": [
    "df[\"Credit_History\"].unique()"
   ]
  },
  {
   "cell_type": "code",
   "execution_count": 36,
   "id": "e1dead80",
   "metadata": {},
   "outputs": [],
   "source": [
    "df[\"Credit_History\"].fillna(df[\"Credit_History\"].median(),inplace=True)"
   ]
  },
  {
   "cell_type": "markdown",
   "id": "36e81cb1",
   "metadata": {},
   "source": [
    "##### Property_Area"
   ]
  },
  {
   "cell_type": "code",
   "execution_count": 37,
   "id": "a606b1ef",
   "metadata": {},
   "outputs": [
    {
     "data": {
      "text/plain": [
       "array(['Urban', 'Rural', 'Semiurban'], dtype=object)"
      ]
     },
     "execution_count": 37,
     "metadata": {},
     "output_type": "execute_result"
    }
   ],
   "source": [
    "df[\"Property_Area\"].unique()"
   ]
  },
  {
   "cell_type": "code",
   "execution_count": 38,
   "id": "a09cfd23",
   "metadata": {},
   "outputs": [],
   "source": [
    "df[\"Property_Area\"]=df[\"Property_Area\"].replace({'Urban':2, 'Rural':0, 'Semiurban':1})"
   ]
  },
  {
   "cell_type": "markdown",
   "id": "b6296e8d",
   "metadata": {},
   "source": [
    "##### Loan_Status\""
   ]
  },
  {
   "cell_type": "code",
   "execution_count": 39,
   "id": "ca3cd4fd",
   "metadata": {},
   "outputs": [
    {
     "data": {
      "text/plain": [
       "array(['Y\"', 'N\"'], dtype=object)"
      ]
     },
     "execution_count": 39,
     "metadata": {},
     "output_type": "execute_result"
    }
   ],
   "source": [
    "df['Loan_Status\"'].unique()"
   ]
  },
  {
   "cell_type": "code",
   "execution_count": 40,
   "id": "9c0674d0",
   "metadata": {},
   "outputs": [],
   "source": [
    "df['Loan_Status\"']=df['Loan_Status\"'].replace({'Y\"':1, 'N\"':0})"
   ]
  },
  {
   "cell_type": "raw",
   "id": "10a42b9f",
   "metadata": {},
   "source": [
    "df.to_csv(\"loan_data.csv\")"
   ]
  },
  {
   "cell_type": "markdown",
   "id": "c45a7e6e",
   "metadata": {},
   "source": [
    "### Model selection and model training"
   ]
  },
  {
   "cell_type": "code",
   "execution_count": 45,
   "id": "7481768c",
   "metadata": {},
   "outputs": [],
   "source": [
    "x=df.drop('Loan_Status\"',axis=1)\n",
    "y=df['Loan_Status\"']"
   ]
  },
  {
   "cell_type": "code",
   "execution_count": 47,
   "id": "32a8e76a",
   "metadata": {},
   "outputs": [],
   "source": [
    "x_train,x_test,y_train,y_test = train_test_split(x,y,test_size=0.2,random_state=0,stratify=y)"
   ]
  },
  {
   "cell_type": "markdown",
   "id": "aad0af05",
   "metadata": {},
   "source": [
    "### KNN Classifier"
   ]
  },
  {
   "cell_type": "code",
   "execution_count": 48,
   "id": "7684c91d",
   "metadata": {},
   "outputs": [
    {
     "data": {
      "text/plain": [
       "KNeighborsClassifier()"
      ]
     },
     "execution_count": 48,
     "metadata": {},
     "output_type": "execute_result"
    }
   ],
   "source": [
    "knn_clf=KNeighborsClassifier()\n",
    "knn_clf.fit(x_train,y_train)"
   ]
  },
  {
   "cell_type": "code",
   "execution_count": 52,
   "id": "c9d6f97e",
   "metadata": {},
   "outputs": [
    {
     "name": "stdout",
     "output_type": "stream",
     "text": [
      "Test Accuracy 0.5934959349593496\n",
      "Train Accuracy 0.7311608961303462\n"
     ]
    }
   ],
   "source": [
    "# testing data\n",
    "\n",
    "yp_test=knn_clf.predict(x_test)\n",
    "confu_matrix=confusion_matrix(y_test,yp_test)\n",
    "Accuracy=accuracy_score(y_test,yp_test)\n",
    "classify_report=classification_report(y_test,yp_test)\n",
    "print(\"Test Accuracy\",Accuracy)\n",
    "\n",
    "# training data\n",
    "\n",
    "yp_train=knn_clf.predict(x_train)\n",
    "confu_matrix=confusion_matrix(y_train,yp_train)\n",
    "Accuracy=accuracy_score(y_train,yp_train)\n",
    "classify_report=classification_report(y_train,yp_train)\n",
    "\n",
    "print(\"Train Accuracy\",Accuracy)\n"
   ]
  },
  {
   "cell_type": "markdown",
   "id": "eef401ae",
   "metadata": {},
   "source": [
    "#### KNN hyper parameter tuning"
   ]
  },
  {
   "cell_type": "code",
   "execution_count": 58,
   "id": "48e74395",
   "metadata": {},
   "outputs": [
    {
     "data": {
      "text/plain": [
       "{'n_neighbors': 11, 'p': 1}"
      ]
     },
     "execution_count": 58,
     "metadata": {},
     "output_type": "execute_result"
    }
   ],
   "source": [
    "model_knn=KNeighborsClassifier()\n",
    "hypo={\"n_neighbors\":np.arange(3,25),\n",
    "     \"p\":[1,2]}\n",
    "gridcv=GridSearchCV(model_knn,hypo,cv=5)\n",
    "gridcv.fit(x_train,y_train)\n",
    "gridcv.best_params_"
   ]
  },
  {
   "cell_type": "code",
   "execution_count": 59,
   "id": "5e1fc40d",
   "metadata": {},
   "outputs": [
    {
     "data": {
      "text/plain": [
       "KNeighborsClassifier(n_neighbors=11, p=1)"
      ]
     },
     "execution_count": 59,
     "metadata": {},
     "output_type": "execute_result"
    }
   ],
   "source": [
    "knn=KNeighborsClassifier(n_neighbors=11,p=1)\n",
    "knn.fit(x_train,y_train)"
   ]
  },
  {
   "cell_type": "code",
   "execution_count": 60,
   "id": "de266aac",
   "metadata": {},
   "outputs": [
    {
     "name": "stdout",
     "output_type": "stream",
     "text": [
      "Test Accuracy 0.6666666666666666\n",
      "Train Accuracy 0.7189409368635438\n"
     ]
    }
   ],
   "source": [
    "#Evaluation after hyperparameter tuning\n",
    "# testing data\n",
    "\n",
    "yp_test=knn.predict(x_test)\n",
    "confu_matrix=confusion_matrix(y_test,yp_test)\n",
    "Accuracy=accuracy_score(y_test,yp_test)\n",
    "classify_report=classification_report(y_test,yp_test)\n",
    "print(\"Test Accuracy\",Accuracy)\n",
    "\n",
    "# training data\n",
    "\n",
    "yp_train=knn.predict(x_train)\n",
    "confu_matrix=confusion_matrix(y_train,yp_train)\n",
    "Accuracy=accuracy_score(y_train,yp_train)\n",
    "classify_report=classification_report(y_train,yp_train)\n",
    "\n",
    "print(\"Train Accuracy\",Accuracy)\n"
   ]
  },
  {
   "cell_type": "markdown",
   "id": "e58716ec",
   "metadata": {},
   "source": [
    "### Logistic Regression"
   ]
  },
  {
   "cell_type": "code",
   "execution_count": 63,
   "id": "fa27bca4",
   "metadata": {},
   "outputs": [
    {
     "data": {
      "text/plain": [
       "LogisticRegression()"
      ]
     },
     "execution_count": 63,
     "metadata": {},
     "output_type": "execute_result"
    }
   ],
   "source": [
    "x_train,x_test,y_train,y_test = train_test_split(x,y,test_size=0.2,random_state=0,stratify=y)\n",
    "logy=LogisticRegression()\n",
    "logy.fit(x_train,y_train)"
   ]
  },
  {
   "cell_type": "code",
   "execution_count": 65,
   "id": "833f33e3",
   "metadata": {},
   "outputs": [
    {
     "name": "stdout",
     "output_type": "stream",
     "text": [
      "train accuracy 0.8085539714867617 test accuracy 0.8048780487804879\n"
     ]
    }
   ],
   "source": [
    "print(\"train accuracy\",logy.score(x_train,y_train),\"test accuracy\",logy.score(x_test,y_test))"
   ]
  },
  {
   "cell_type": "markdown",
   "id": "2c94c8a7",
   "metadata": {},
   "source": [
    "### Decision Tree"
   ]
  },
  {
   "cell_type": "code",
   "execution_count": 66,
   "id": "d6b9790b",
   "metadata": {},
   "outputs": [
    {
     "data": {
      "text/plain": [
       "DecisionTreeClassifier()"
      ]
     },
     "execution_count": 66,
     "metadata": {},
     "output_type": "execute_result"
    }
   ],
   "source": [
    "x_train,x_test,y_train,y_test = train_test_split(x,y,test_size=0.2,random_state=0,stratify=y)\n",
    "DT = DecisionTreeClassifier()\n",
    "DT.fit(x_train,y_train)"
   ]
  },
  {
   "cell_type": "code",
   "execution_count": 67,
   "id": "1198e1ef",
   "metadata": {},
   "outputs": [
    {
     "name": "stdout",
     "output_type": "stream",
     "text": [
      "train accuracy 1.0 test accuracy 0.7073170731707317\n"
     ]
    }
   ],
   "source": [
    "print(\"train accuracy\",DT.score(x_train,y_train),\"test accuracy\",DT.score(x_test,y_test))"
   ]
  },
  {
   "cell_type": "markdown",
   "id": "4e163911",
   "metadata": {},
   "source": [
    "#### DT_hyperparameter tuning"
   ]
  },
  {
   "cell_type": "code",
   "execution_count": 71,
   "id": "52f01bf8",
   "metadata": {},
   "outputs": [],
   "source": [
    "x_train,x_test,y_train,y_test = train_test_split(x,y,test_size=0.2,random_state=0,stratify=y)"
   ]
  },
  {
   "cell_type": "code",
   "execution_count": 73,
   "id": "43b0541e",
   "metadata": {},
   "outputs": [
    {
     "data": {
      "text/plain": [
       "GridSearchCV(cv=5, estimator=DecisionTreeClassifier(),\n",
       "             param_grid={'criterion': ['gini', 'entropy'],\n",
       "                         'max_depth': array([2, 3, 4, 5, 6, 7]),\n",
       "                         'min_samples_leaf': array([ 3,  4,  5,  6,  7,  8,  9, 10, 11, 12, 13, 14]),\n",
       "                         'min_samples_split': array([ 3,  4,  5,  6,  7,  8,  9, 10, 11, 12, 13, 14, 15, 16, 17, 18, 19])})"
      ]
     },
     "execution_count": 73,
     "metadata": {},
     "output_type": "execute_result"
    }
   ],
   "source": [
    "model= DecisionTreeClassifier()\n",
    "hyper_p = {\"criterion\" :['gini',\"entropy\"],\n",
    "              \"max_depth\":np.arange(2,8),\n",
    "              \"min_samples_split\":np.arange(3,20),\n",
    "              \"min_samples_leaf\":np.arange(3,15),}\n",
    "grid=GridSearchCV(model,hyper_p,cv=5)\n",
    "grid.fit(x_train,y_train)"
   ]
  },
  {
   "cell_type": "code",
   "execution_count": 74,
   "id": "b54a9c4b",
   "metadata": {},
   "outputs": [
    {
     "data": {
      "text/plain": [
       "{'criterion': 'gini',\n",
       " 'max_depth': 2,\n",
       " 'min_samples_leaf': 3,\n",
       " 'min_samples_split': 3}"
      ]
     },
     "execution_count": 74,
     "metadata": {},
     "output_type": "execute_result"
    }
   ],
   "source": [
    "grid.best_params_"
   ]
  },
  {
   "cell_type": "code",
   "execution_count": 77,
   "id": "35833412",
   "metadata": {},
   "outputs": [
    {
     "data": {
      "text/plain": [
       "DecisionTreeClassifier(max_depth=2, min_samples_leaf=3, min_samples_split=3,\n",
       "                       random_state=0)"
      ]
     },
     "execution_count": 77,
     "metadata": {},
     "output_type": "execute_result"
    }
   ],
   "source": [
    "dt_h= DecisionTreeClassifier(criterion=\"gini\",max_depth=2,min_samples_leaf=3,min_samples_split=3,random_state=0)\n",
    "dt_h.fit(x_train,y_train)"
   ]
  },
  {
   "cell_type": "code",
   "execution_count": 78,
   "id": "ad52c549",
   "metadata": {},
   "outputs": [
    {
     "name": "stdout",
     "output_type": "stream",
     "text": [
      "train accuracy 0.8085539714867617 test accuracy 0.8130081300813008\n"
     ]
    }
   ],
   "source": [
    "print(\"train accuracy\",dt_h.score(x_train,y_train),\"test accuracy\",dt_h.score(x_test,y_test))"
   ]
  },
  {
   "cell_type": "code",
   "execution_count": 80,
   "id": "cafce25b",
   "metadata": {},
   "outputs": [
    {
     "data": {
      "text/html": [
       "<div>\n",
       "<style scoped>\n",
       "    .dataframe tbody tr th:only-of-type {\n",
       "        vertical-align: middle;\n",
       "    }\n",
       "\n",
       "    .dataframe tbody tr th {\n",
       "        vertical-align: top;\n",
       "    }\n",
       "\n",
       "    .dataframe thead th {\n",
       "        text-align: right;\n",
       "    }\n",
       "</style>\n",
       "<table border=\"1\" class=\"dataframe\">\n",
       "  <thead>\n",
       "    <tr style=\"text-align: right;\">\n",
       "      <th></th>\n",
       "      <th>Gender</th>\n",
       "      <th>Married</th>\n",
       "      <th>Dependents</th>\n",
       "      <th>Education</th>\n",
       "      <th>Self_Employed</th>\n",
       "      <th>ApplicantIncome</th>\n",
       "      <th>CoapplicantIncome</th>\n",
       "      <th>LoanAmount</th>\n",
       "      <th>Loan_Amount_Term</th>\n",
       "      <th>Credit_History</th>\n",
       "      <th>Property_Area</th>\n",
       "    </tr>\n",
       "  </thead>\n",
       "  <tbody>\n",
       "    <tr>\n",
       "      <th>0</th>\n",
       "      <td>1</td>\n",
       "      <td>0</td>\n",
       "      <td>0.0</td>\n",
       "      <td>1</td>\n",
       "      <td>0</td>\n",
       "      <td>5849.0</td>\n",
       "      <td>0.0</td>\n",
       "      <td>128.0</td>\n",
       "      <td>360.0</td>\n",
       "      <td>1.0</td>\n",
       "      <td>2</td>\n",
       "    </tr>\n",
       "    <tr>\n",
       "      <th>1</th>\n",
       "      <td>1</td>\n",
       "      <td>1</td>\n",
       "      <td>1.0</td>\n",
       "      <td>1</td>\n",
       "      <td>0</td>\n",
       "      <td>4583.0</td>\n",
       "      <td>1508.0</td>\n",
       "      <td>128.0</td>\n",
       "      <td>360.0</td>\n",
       "      <td>1.0</td>\n",
       "      <td>0</td>\n",
       "    </tr>\n",
       "  </tbody>\n",
       "</table>\n",
       "</div>"
      ],
      "text/plain": [
       "   Gender  Married  Dependents  Education  Self_Employed  ApplicantIncome  \\\n",
       "0       1        0         0.0          1              0           5849.0   \n",
       "1       1        1         1.0          1              0           4583.0   \n",
       "\n",
       "   CoapplicantIncome  LoanAmount  Loan_Amount_Term  Credit_History  \\\n",
       "0                0.0       128.0             360.0             1.0   \n",
       "1             1508.0       128.0             360.0             1.0   \n",
       "\n",
       "   Property_Area  \n",
       "0              2  \n",
       "1              0  "
      ]
     },
     "execution_count": 80,
     "metadata": {},
     "output_type": "execute_result"
    }
   ],
   "source": [
    "x.head(2)"
   ]
  },
  {
   "cell_type": "markdown",
   "id": "c350b8eb",
   "metadata": {},
   "source": [
    "### conclusion"
   ]
  },
  {
   "cell_type": "code",
   "execution_count": null,
   "id": "14b18a3c",
   "metadata": {},
   "outputs": [],
   "source": [
    "KNN classifier (raw data): Train Accuracy 0.7311608961303462 Test Accuracy 0.5934959349593496 \n",
    "KNN classifier hypertuned: Train Accuracy 0.7189409368635438 Test Accuracy 0.6666666666666666\n",
    "Logistic regression (raw): train accuracy 0.8085539714867617 test accuracy 0.8048780487804879\n",
    "DT classifier (raw data) : train accuracy 1.0                test accuracy 0.7073170731707317\n",
    "DT classifier hypertuned : train accuracy 0.8085539714867617 test accuracy 0.8130081300813008\n",
    "\n",
    "Hypertuned DT model is giving better accuracy compared to other models, so proceeded for deployement\n"
   ]
  },
  {
   "cell_type": "markdown",
   "id": "67b98fec",
   "metadata": {},
   "source": [
    "### feature selection"
   ]
  },
  {
   "cell_type": "code",
   "execution_count": 106,
   "id": "026a2c60",
   "metadata": {},
   "outputs": [],
   "source": [
    "arr=dt_h.feature_importances_\n",
    "col=x.columns\n",
    "df_f=pd.DataFrame(arr,index=col)"
   ]
  },
  {
   "cell_type": "code",
   "execution_count": 116,
   "id": "a4fa7cf9",
   "metadata": {},
   "outputs": [
    {
     "data": {
      "text/html": [
       "<div>\n",
       "<style scoped>\n",
       "    .dataframe tbody tr th:only-of-type {\n",
       "        vertical-align: middle;\n",
       "    }\n",
       "\n",
       "    .dataframe tbody tr th {\n",
       "        vertical-align: top;\n",
       "    }\n",
       "\n",
       "    .dataframe thead th {\n",
       "        text-align: right;\n",
       "    }\n",
       "</style>\n",
       "<table border=\"1\" class=\"dataframe\">\n",
       "  <thead>\n",
       "    <tr style=\"text-align: right;\">\n",
       "      <th></th>\n",
       "      <th>0</th>\n",
       "    </tr>\n",
       "  </thead>\n",
       "  <tbody>\n",
       "    <tr>\n",
       "      <th>Gender</th>\n",
       "      <td>0.000000</td>\n",
       "    </tr>\n",
       "    <tr>\n",
       "      <th>Married</th>\n",
       "      <td>0.000000</td>\n",
       "    </tr>\n",
       "    <tr>\n",
       "      <th>Dependents</th>\n",
       "      <td>0.000000</td>\n",
       "    </tr>\n",
       "    <tr>\n",
       "      <th>Education</th>\n",
       "      <td>0.000000</td>\n",
       "    </tr>\n",
       "    <tr>\n",
       "      <th>Self_Employed</th>\n",
       "      <td>0.000000</td>\n",
       "    </tr>\n",
       "    <tr>\n",
       "      <th>ApplicantIncome</th>\n",
       "      <td>0.000000</td>\n",
       "    </tr>\n",
       "    <tr>\n",
       "      <th>CoapplicantIncome</th>\n",
       "      <td>0.000000</td>\n",
       "    </tr>\n",
       "    <tr>\n",
       "      <th>LoanAmount</th>\n",
       "      <td>0.010366</td>\n",
       "    </tr>\n",
       "    <tr>\n",
       "      <th>Loan_Amount_Term</th>\n",
       "      <td>0.000000</td>\n",
       "    </tr>\n",
       "    <tr>\n",
       "      <th>Credit_History</th>\n",
       "      <td>0.961317</td>\n",
       "    </tr>\n",
       "    <tr>\n",
       "      <th>Property_Area</th>\n",
       "      <td>0.028317</td>\n",
       "    </tr>\n",
       "  </tbody>\n",
       "</table>\n",
       "</div>"
      ],
      "text/plain": [
       "                          0\n",
       "Gender             0.000000\n",
       "Married            0.000000\n",
       "Dependents         0.000000\n",
       "Education          0.000000\n",
       "Self_Employed      0.000000\n",
       "ApplicantIncome    0.000000\n",
       "CoapplicantIncome  0.000000\n",
       "LoanAmount         0.010366\n",
       "Loan_Amount_Term   0.000000\n",
       "Credit_History     0.961317\n",
       "Property_Area      0.028317"
      ]
     },
     "execution_count": 116,
     "metadata": {},
     "output_type": "execute_result"
    }
   ],
   "source": [
    "df_f"
   ]
  },
  {
   "cell_type": "code",
   "execution_count": null,
   "id": "011121bf",
   "metadata": {},
   "outputs": [],
   "source": [
    "#considering the results of the embedded method only 3 features are relevant"
   ]
  },
  {
   "cell_type": "markdown",
   "id": "ee2afe3e",
   "metadata": {},
   "source": [
    "### Revised Data"
   ]
  },
  {
   "cell_type": "code",
   "execution_count": 112,
   "id": "7375d7d8",
   "metadata": {},
   "outputs": [
    {
     "data": {
      "text/html": [
       "<div>\n",
       "<style scoped>\n",
       "    .dataframe tbody tr th:only-of-type {\n",
       "        vertical-align: middle;\n",
       "    }\n",
       "\n",
       "    .dataframe tbody tr th {\n",
       "        vertical-align: top;\n",
       "    }\n",
       "\n",
       "    .dataframe thead th {\n",
       "        text-align: right;\n",
       "    }\n",
       "</style>\n",
       "<table border=\"1\" class=\"dataframe\">\n",
       "  <thead>\n",
       "    <tr style=\"text-align: right;\">\n",
       "      <th></th>\n",
       "      <th>LoanAmount</th>\n",
       "      <th>Credit_History</th>\n",
       "      <th>Property_Area</th>\n",
       "    </tr>\n",
       "  </thead>\n",
       "  <tbody>\n",
       "    <tr>\n",
       "      <th>0</th>\n",
       "      <td>128.0</td>\n",
       "      <td>1.0</td>\n",
       "      <td>2</td>\n",
       "    </tr>\n",
       "    <tr>\n",
       "      <th>1</th>\n",
       "      <td>128.0</td>\n",
       "      <td>1.0</td>\n",
       "      <td>0</td>\n",
       "    </tr>\n",
       "    <tr>\n",
       "      <th>2</th>\n",
       "      <td>66.0</td>\n",
       "      <td>1.0</td>\n",
       "      <td>2</td>\n",
       "    </tr>\n",
       "    <tr>\n",
       "      <th>3</th>\n",
       "      <td>120.0</td>\n",
       "      <td>1.0</td>\n",
       "      <td>2</td>\n",
       "    </tr>\n",
       "    <tr>\n",
       "      <th>4</th>\n",
       "      <td>141.0</td>\n",
       "      <td>1.0</td>\n",
       "      <td>2</td>\n",
       "    </tr>\n",
       "  </tbody>\n",
       "</table>\n",
       "</div>"
      ],
      "text/plain": [
       "   LoanAmount  Credit_History  Property_Area\n",
       "0       128.0             1.0              2\n",
       "1       128.0             1.0              0\n",
       "2        66.0             1.0              2\n",
       "3       120.0             1.0              2\n",
       "4       141.0             1.0              2"
      ]
     },
     "execution_count": 112,
     "metadata": {},
     "output_type": "execute_result"
    }
   ],
   "source": [
    "x_new=df[[\"LoanAmount\",\"Credit_History\",\"Property_Area\"]]\n",
    "x_new.head()"
   ]
  },
  {
   "cell_type": "markdown",
   "id": "85dfeb3f",
   "metadata": {},
   "source": [
    "### DT model Training"
   ]
  },
  {
   "cell_type": "code",
   "execution_count": 113,
   "id": "a2524b1a",
   "metadata": {},
   "outputs": [],
   "source": [
    "x_train,x_test,y_train,y_test = train_test_split(x_new,y,test_size=0.2,random_state=0,stratify=y)"
   ]
  },
  {
   "cell_type": "code",
   "execution_count": 114,
   "id": "3fe59c6b",
   "metadata": {},
   "outputs": [
    {
     "data": {
      "text/plain": [
       "DecisionTreeClassifier(max_depth=2, min_samples_leaf=3, min_samples_split=3,\n",
       "                       random_state=0)"
      ]
     },
     "execution_count": 114,
     "metadata": {},
     "output_type": "execute_result"
    }
   ],
   "source": [
    "dt_new= DecisionTreeClassifier(criterion=\"gini\",max_depth=2,min_samples_leaf=3,min_samples_split=3,random_state=0)\n",
    "dt_new.fit(x_train,y_train)"
   ]
  },
  {
   "cell_type": "markdown",
   "id": "3d5778f0",
   "metadata": {},
   "source": [
    "### Evaluation after feature selection"
   ]
  },
  {
   "cell_type": "code",
   "execution_count": 115,
   "id": "0836c3b9",
   "metadata": {},
   "outputs": [
    {
     "name": "stdout",
     "output_type": "stream",
     "text": [
      "train accuracy 0.8085539714867617 test accuracy 0.8130081300813008\n"
     ]
    }
   ],
   "source": [
    "print(\"train accuracy\",dt_new.score(x_train,y_train),\"test accuracy\",dt_new.score(x_test,y_test))"
   ]
  },
  {
   "cell_type": "code",
   "execution_count": null,
   "id": "09e03f25",
   "metadata": {},
   "outputs": [],
   "source": [
    "# Accuracy is same after dropping the redendunt feature"
   ]
  },
  {
   "cell_type": "markdown",
   "id": "e739bb6a",
   "metadata": {},
   "source": [
    "### creating json and pickle files for deployement"
   ]
  },
  {
   "cell_type": "code",
   "execution_count": 117,
   "id": "fa2aa8e8",
   "metadata": {},
   "outputs": [],
   "source": [
    "project_data= {\"Gender_values\":{\"Male\":1,\"Female\":0},\n",
    "                \"Married_values\":{\"Yes\":1,\"No\":0},\n",
    "                \"Education_values\":{'Graduate':1, 'Not Graduate':0},\n",
    "                \"Self_Employed_values\":{\"Yes\":1,\"No\":0},\n",
    "                \"Property_Area_values\":{'Urban':2, 'Rural':0, 'Semiurban':1},\n",
    "               \"columns\":list(x.columns)\n",
    "              }"
   ]
  },
  {
   "cell_type": "code",
   "execution_count": 120,
   "id": "b8d8fa6f",
   "metadata": {},
   "outputs": [],
   "source": [
    "with open (\"project_data.json\",\"w\") as file:\n",
    "    json.dump(project_data,file)"
   ]
  },
  {
   "cell_type": "code",
   "execution_count": 119,
   "id": "17767ed6",
   "metadata": {},
   "outputs": [],
   "source": [
    "with open (\"DTModel.pkl\",\"wb\") as file:\n",
    "    pickle.dump(dt_new,file)"
   ]
  }
 ],
 "metadata": {
  "kernelspec": {
   "display_name": "Python 3 (ipykernel)",
   "language": "python",
   "name": "python3"
  },
  "language_info": {
   "codemirror_mode": {
    "name": "ipython",
    "version": 3
   },
   "file_extension": ".py",
   "mimetype": "text/x-python",
   "name": "python",
   "nbconvert_exporter": "python",
   "pygments_lexer": "ipython3",
   "version": "3.9.12"
  }
 },
 "nbformat": 4,
 "nbformat_minor": 5
}
