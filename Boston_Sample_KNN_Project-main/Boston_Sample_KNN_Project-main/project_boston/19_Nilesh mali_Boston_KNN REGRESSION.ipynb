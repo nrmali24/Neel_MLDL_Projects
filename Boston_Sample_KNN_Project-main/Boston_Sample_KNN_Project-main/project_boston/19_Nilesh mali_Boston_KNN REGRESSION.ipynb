{
 "cells": [
  {
   "cell_type": "code",
   "execution_count": 1,
   "id": "61bb93b1",
   "metadata": {},
   "outputs": [],
   "source": [
    "import pandas as pd\n",
    "import numpy as np\n",
    "import pickle\n",
    "import json\n",
    "import matplotlib.pyplot as plt\n",
    "\n",
    "from sklearn.datasets import load_boston\n",
    "\n",
    "from sklearn.preprocessing import StandardScaler,MinMaxScaler\n",
    "\n",
    "from sklearn.model_selection import train_test_split,GridSearchCV,RandomizedSearchCV\n",
    "\n",
    "from sklearn.neighbors import KNeighborsRegressor\n",
    "\n",
    "from sklearn.metrics import mean_squared_error,mean_absolute_error,r2_score\n",
    "\n",
    "import warnings\n",
    "warnings.filterwarnings(\"ignore\")"
   ]
  },
  {
   "cell_type": "markdown",
   "id": "8efbb953",
   "metadata": {},
   "source": [
    "### Problem Statement"
   ]
  },
  {
   "cell_type": "raw",
   "id": "af3d0b04",
   "metadata": {},
   "source": [
    "Predict the house price based on the given features (boston dataset)"
   ]
  },
  {
   "cell_type": "markdown",
   "id": "4e394c22",
   "metadata": {},
   "source": [
    "### Data Gathering"
   ]
  },
  {
   "cell_type": "code",
   "execution_count": 2,
   "id": "22fd2589",
   "metadata": {},
   "outputs": [
    {
     "data": {
      "text/html": [
       "<div>\n",
       "<style scoped>\n",
       "    .dataframe tbody tr th:only-of-type {\n",
       "        vertical-align: middle;\n",
       "    }\n",
       "\n",
       "    .dataframe tbody tr th {\n",
       "        vertical-align: top;\n",
       "    }\n",
       "\n",
       "    .dataframe thead th {\n",
       "        text-align: right;\n",
       "    }\n",
       "</style>\n",
       "<table border=\"1\" class=\"dataframe\">\n",
       "  <thead>\n",
       "    <tr style=\"text-align: right;\">\n",
       "      <th></th>\n",
       "      <th>CRIM</th>\n",
       "      <th>ZN</th>\n",
       "      <th>INDUS</th>\n",
       "      <th>CHAS</th>\n",
       "      <th>NOX</th>\n",
       "      <th>RM</th>\n",
       "      <th>AGE</th>\n",
       "      <th>DIS</th>\n",
       "      <th>RAD</th>\n",
       "      <th>TAX</th>\n",
       "      <th>PTRATIO</th>\n",
       "      <th>B</th>\n",
       "      <th>LSTAT</th>\n",
       "      <th>price</th>\n",
       "    </tr>\n",
       "  </thead>\n",
       "  <tbody>\n",
       "    <tr>\n",
       "      <th>0</th>\n",
       "      <td>0.00632</td>\n",
       "      <td>18.0</td>\n",
       "      <td>2.31</td>\n",
       "      <td>0.0</td>\n",
       "      <td>0.538</td>\n",
       "      <td>6.575</td>\n",
       "      <td>65.2</td>\n",
       "      <td>4.09</td>\n",
       "      <td>1.0</td>\n",
       "      <td>296.0</td>\n",
       "      <td>15.3</td>\n",
       "      <td>396.9</td>\n",
       "      <td>4.98</td>\n",
       "      <td>24.0</td>\n",
       "    </tr>\n",
       "  </tbody>\n",
       "</table>\n",
       "</div>"
      ],
      "text/plain": [
       "      CRIM    ZN  INDUS  CHAS    NOX     RM   AGE   DIS  RAD    TAX  PTRATIO  \\\n",
       "0  0.00632  18.0   2.31   0.0  0.538  6.575  65.2  4.09  1.0  296.0     15.3   \n",
       "\n",
       "       B  LSTAT  price  \n",
       "0  396.9   4.98   24.0  "
      ]
     },
     "execution_count": 2,
     "metadata": {},
     "output_type": "execute_result"
    }
   ],
   "source": [
    "boston=load_boston()\n",
    "df=pd.DataFrame(boston.data,columns=boston.feature_names)\n",
    "df[\"price\"]=boston.target\n",
    "df.head(1)"
   ]
  },
  {
   "cell_type": "markdown",
   "id": "22618f3f",
   "metadata": {},
   "source": [
    "### EDA"
   ]
  },
  {
   "cell_type": "code",
   "execution_count": 3,
   "id": "46bc958a",
   "metadata": {},
   "outputs": [
    {
     "name": "stdout",
     "output_type": "stream",
     "text": [
      "<class 'pandas.core.frame.DataFrame'>\n",
      "RangeIndex: 506 entries, 0 to 505\n",
      "Data columns (total 14 columns):\n",
      " #   Column   Non-Null Count  Dtype  \n",
      "---  ------   --------------  -----  \n",
      " 0   CRIM     506 non-null    float64\n",
      " 1   ZN       506 non-null    float64\n",
      " 2   INDUS    506 non-null    float64\n",
      " 3   CHAS     506 non-null    float64\n",
      " 4   NOX      506 non-null    float64\n",
      " 5   RM       506 non-null    float64\n",
      " 6   AGE      506 non-null    float64\n",
      " 7   DIS      506 non-null    float64\n",
      " 8   RAD      506 non-null    float64\n",
      " 9   TAX      506 non-null    float64\n",
      " 10  PTRATIO  506 non-null    float64\n",
      " 11  B        506 non-null    float64\n",
      " 12  LSTAT    506 non-null    float64\n",
      " 13  price    506 non-null    float64\n",
      "dtypes: float64(14)\n",
      "memory usage: 55.5 KB\n"
     ]
    }
   ],
   "source": [
    "df.info()"
   ]
  },
  {
   "cell_type": "code",
   "execution_count": 4,
   "id": "bcae79e9",
   "metadata": {},
   "outputs": [
    {
     "data": {
      "text/plain": [
       "CRIM       0\n",
       "ZN         0\n",
       "INDUS      0\n",
       "CHAS       0\n",
       "NOX        0\n",
       "RM         0\n",
       "AGE        0\n",
       "DIS        0\n",
       "RAD        0\n",
       "TAX        0\n",
       "PTRATIO    0\n",
       "B          0\n",
       "LSTAT      0\n",
       "price      0\n",
       "dtype: int64"
      ]
     },
     "execution_count": 4,
     "metadata": {},
     "output_type": "execute_result"
    }
   ],
   "source": [
    "df.isna().sum()"
   ]
  },
  {
   "cell_type": "code",
   "execution_count": 5,
   "id": "044a71a5",
   "metadata": {},
   "outputs": [
    {
     "data": {
      "text/plain": [
       "<AxesSubplot:>"
      ]
     },
     "execution_count": 5,
     "metadata": {},
     "output_type": "execute_result"
    },
    {
     "data": {
      "image/png": "[encoded data removed]",
      "text/plain": [
       "<Figure size 1800x648 with 1 Axes>"
      ]
     },
     "metadata": {
      "needs_background": "light"
     },
     "output_type": "display_data"
    }
   ],
   "source": [
    "plt.figure(figsize=(25,9))\n",
    "df.boxplot()"
   ]
  },
  {
   "cell_type": "markdown",
   "id": "df828fe1",
   "metadata": {},
   "source": [
    "### Feature Engineering"
   ]
  },
  {
   "cell_type": "raw",
   "id": "bc0fd60b",
   "metadata": {},
   "source": [
    "crim zn rm dis b outliers to be handled"
   ]
  },
  {
   "cell_type": "markdown",
   "id": "a83119df",
   "metadata": {},
   "source": [
    "##### CRIM"
   ]
  },
  {
   "cell_type": "code",
   "execution_count": 6,
   "id": "2b060a81",
   "metadata": {},
   "outputs": [
    {
     "data": {
      "text/plain": [
       "<AxesSubplot:>"
      ]
     },
     "execution_count": 6,
     "metadata": {},
     "output_type": "execute_result"
    },
    {
     "data": {
      "image/png": "[encoded data removed]",
      "text/plain": [
       "<Figure size 432x288 with 1 Axes>"
      ]
     },
     "metadata": {
      "needs_background": "light"
     },
     "output_type": "display_data"
    }
   ],
   "source": [
    "df[[\"CRIM\"]].boxplot()       # Need to handle outliers(handling by IQR method)"
   ]
  },
  {
   "cell_type": "code",
   "execution_count": 7,
   "id": "d05ec57c",
   "metadata": {},
   "outputs": [
    {
     "data": {
      "text/plain": [
       "(66, 14)"
      ]
     },
     "execution_count": 7,
     "metadata": {},
     "output_type": "execute_result"
    }
   ],
   "source": [
    "Q1=df[\"CRIM\"].quantile(0.25)\n",
    "Q3=df[\"CRIM\"].quantile(0.75)\n",
    "IQR=Q3-Q1\n",
    "uppertail = Q3+1.5*IQR\n",
    "lowertail = Q1-1.5*IQR\n",
    "\n",
    "outlier_df = df[(df[\"CRIM\"]>uppertail) | (df[\"CRIM\"]<lowertail)]\n",
    "outlier_df.shape"
   ]
  },
  {
   "cell_type": "code",
   "execution_count": 8,
   "id": "69f663dd",
   "metadata": {},
   "outputs": [
    {
     "data": {
      "text/plain": [
       "1.1983409999999992"
      ]
     },
     "execution_count": 8,
     "metadata": {},
     "output_type": "execute_result"
    }
   ],
   "source": [
    "fare_mean = df.loc[((df[\"CRIM\"]<=uppertail) & (df[\"CRIM\"]>=lowertail)),\"CRIM\"].mean()\n",
    "fare_mean"
   ]
  },
  {
   "cell_type": "code",
   "execution_count": 9,
   "id": "d209110d",
   "metadata": {},
   "outputs": [],
   "source": [
    "df.loc[(df[\"CRIM\"]>uppertail) | (df[\"CRIM\"]<lowertail),\"CRIM\"]=fare_mean"
   ]
  },
  {
   "cell_type": "markdown",
   "id": "9dd31ea2",
   "metadata": {},
   "source": [
    "##### ZN"
   ]
  },
  {
   "cell_type": "code",
   "execution_count": 10,
   "id": "7ef2c07b",
   "metadata": {},
   "outputs": [
    {
     "data": {
      "text/plain": [
       "count    506.000000\n",
       "mean      11.363636\n",
       "std       23.322453\n",
       "min        0.000000\n",
       "25%        0.000000\n",
       "50%        0.000000\n",
       "75%       12.500000\n",
       "max      100.000000\n",
       "Name: ZN, dtype: float64"
      ]
     },
     "execution_count": 10,
     "metadata": {},
     "output_type": "execute_result"
    }
   ],
   "source": [
    "df[\"ZN\"].describe()"
   ]
  },
  {
   "cell_type": "code",
   "execution_count": 11,
   "id": "692bea2e",
   "metadata": {},
   "outputs": [
    {
     "data": {
      "text/plain": [
       "(68, 14)"
      ]
     },
     "execution_count": 11,
     "metadata": {},
     "output_type": "execute_result"
    }
   ],
   "source": [
    "Q1=df[\"ZN\"].quantile(0.25)\n",
    "Q3=df[\"ZN\"].quantile(0.75)\n",
    "IQR=Q3-Q1\n",
    "uppertail = Q3+1.5*IQR\n",
    "lowertail = Q1-1.5*IQR\n",
    "\n",
    "outlier_df = df[(df[\"ZN\"]>uppertail) | (df[\"ZN\"]<lowertail)]\n",
    "outlier_df.shape"
   ]
  },
  {
   "cell_type": "code",
   "execution_count": 12,
   "id": "d4c3f71e",
   "metadata": {},
   "outputs": [
    {
     "data": {
      "text/plain": [
       "3.192922374429224"
      ]
     },
     "execution_count": 12,
     "metadata": {},
     "output_type": "execute_result"
    }
   ],
   "source": [
    "fare_mean=df.loc[(df[\"ZN\"]<=uppertail) & (df[\"ZN\"]>=lowertail),\"ZN\"].mean()\n",
    "fare_mean"
   ]
  },
  {
   "cell_type": "code",
   "execution_count": 13,
   "id": "9956f2e3",
   "metadata": {},
   "outputs": [],
   "source": [
    "df.loc[(df[\"ZN\"]>uppertail) | (df[\"ZN\"]<lowertail)]=fare_mean"
   ]
  },
  {
   "cell_type": "code",
   "execution_count": 14,
   "id": "bf1c338e",
   "metadata": {},
   "outputs": [
    {
     "data": {
      "text/plain": [
       "<AxesSubplot:>"
      ]
     },
     "execution_count": 14,
     "metadata": {},
     "output_type": "execute_result"
    },
    {
     "data": {
      "image/png": "[encoded data removed]",
      "text/plain": [
       "<Figure size 432x288 with 1 Axes>"
      ]
     },
     "metadata": {
      "needs_background": "light"
     },
     "output_type": "display_data"
    }
   ],
   "source": [
    "df[[\"ZN\"]].boxplot()"
   ]
  },
  {
   "cell_type": "raw",
   "id": "71f081e9",
   "metadata": {},
   "source": [
    "PTRATIO"
   ]
  },
  {
   "cell_type": "markdown",
   "id": "df5890e7",
   "metadata": {},
   "source": [
    "##### B"
   ]
  },
  {
   "cell_type": "code",
   "execution_count": 15,
   "id": "f9800bfd",
   "metadata": {},
   "outputs": [
    {
     "data": {
      "text/plain": [
       "<AxesSubplot:>"
      ]
     },
     "execution_count": 15,
     "metadata": {},
     "output_type": "execute_result"
    },
    {
     "data": {
      "image/png": "[encoded data removed]",
      "text/plain": [
       "<Figure size 432x288 with 1 Axes>"
      ]
     },
     "metadata": {
      "needs_background": "light"
     },
     "output_type": "display_data"
    }
   ],
   "source": [
    "df[[\"B\"]].boxplot()"
   ]
  },
  {
   "cell_type": "code",
   "execution_count": 16,
   "id": "ee7e9696",
   "metadata": {},
   "outputs": [
    {
     "data": {
      "text/plain": [
       "(107, 14)"
      ]
     },
     "execution_count": 16,
     "metadata": {},
     "output_type": "execute_result"
    }
   ],
   "source": [
    "Q1=df[\"B\"].quantile(0.25)\n",
    "Q3=df[\"B\"].quantile(0.75)\n",
    "IQR=Q3-Q1\n",
    "uppertail = Q3+1.5*IQR\n",
    "lowertail = Q1-1.5*IQR\n",
    "\n",
    "outlier_df = df[(df[\"B\"]<lowertail)]\n",
    "outlier_df.shape"
   ]
  },
  {
   "cell_type": "code",
   "execution_count": 17,
   "id": "bb44185a",
   "metadata": {},
   "outputs": [
    {
     "data": {
      "text/plain": [
       "380.11303258145284"
      ]
     },
     "execution_count": 17,
     "metadata": {},
     "output_type": "execute_result"
    }
   ],
   "source": [
    "fare_mean = df.loc[(df[\"B\"]>=lowertail),\"B\"].mean()\n",
    "fare_mean"
   ]
  },
  {
   "cell_type": "code",
   "execution_count": 18,
   "id": "60fd3678",
   "metadata": {},
   "outputs": [],
   "source": [
    "# df.loc[(df[\"B\"]>uppertail) | (df[\"B\"]<lowertail),\"B\"]=fare_mean\n",
    "df[\"B\"]=np.where((df[\"B\"]<lowertail),fare_mean,df[\"B\"])"
   ]
  },
  {
   "cell_type": "markdown",
   "id": "2af182ce",
   "metadata": {},
   "source": [
    "##### LSTAT"
   ]
  },
  {
   "cell_type": "code",
   "execution_count": 19,
   "id": "653fce7a",
   "metadata": {},
   "outputs": [
    {
     "data": {
      "text/plain": [
       "<AxesSubplot:>"
      ]
     },
     "execution_count": 19,
     "metadata": {},
     "output_type": "execute_result"
    },
    {
     "data": {
      "image/png": "[encoded data removed]",
      "text/plain": [
       "<Figure size 432x288 with 1 Axes>"
      ]
     },
     "metadata": {
      "needs_background": "light"
     },
     "output_type": "display_data"
    }
   ],
   "source": [
    "df[[\"LSTAT\"]].boxplot()"
   ]
  },
  {
   "cell_type": "markdown",
   "id": "b4a144cf",
   "metadata": {},
   "source": [
    "### Feature selection"
   ]
  },
  {
   "cell_type": "raw",
   "id": "c2a94681",
   "metadata": {},
   "source": [
    "to be studied...."
   ]
  },
  {
   "cell_type": "markdown",
   "id": "08ee2c5c",
   "metadata": {},
   "source": [
    "### Model selection and model training"
   ]
  },
  {
   "cell_type": "code",
   "execution_count": 20,
   "id": "2f726b17",
   "metadata": {},
   "outputs": [],
   "source": [
    "x=df.drop(\"price\",axis=1)\n",
    "y=df[\"price\"]"
   ]
  },
  {
   "cell_type": "code",
   "execution_count": 21,
   "id": "31af5cff",
   "metadata": {},
   "outputs": [],
   "source": [
    "x_train,x_test,y_train,y_test=train_test_split(x,y,test_size=0.2,random_state=24)"
   ]
  },
  {
   "cell_type": "code",
   "execution_count": 22,
   "id": "b48343d0",
   "metadata": {},
   "outputs": [
    {
     "data": {
      "text/plain": [
       "KNeighborsRegressor()"
      ]
     },
     "execution_count": 22,
     "metadata": {},
     "output_type": "execute_result"
    }
   ],
   "source": [
    "knn_reg=KNeighborsRegressor()\n",
    "knn_reg.fit(x_train,y_train)"
   ]
  },
  {
   "cell_type": "markdown",
   "id": "cd240c7a",
   "metadata": {},
   "source": [
    "### Evaluation"
   ]
  },
  {
   "cell_type": "code",
   "execution_count": 23,
   "id": "11ff6c80",
   "metadata": {},
   "outputs": [
    {
     "name": "stdout",
     "output_type": "stream",
     "text": [
      "mse=22.01446831683168\n",
      "mae=2.9020297029702973\n",
      "r2=0.8046572332083808\n",
      "~~~~~~~~~~~~~~~~~~~~~~~~~\n",
      "mse=31.332588235294114\n",
      "mae=3.571764705882353\n",
      "r2=0.6353394549893087\n"
     ]
    }
   ],
   "source": [
    "# training\n",
    "\n",
    "yp_train=knn_reg.predict(x_train)\n",
    "mse=mean_squared_error(y_train,yp_train)\n",
    "mae=mean_absolute_error(y_train,yp_train)\n",
    "r2=r2_score(y_train,yp_train)\n",
    "\n",
    "print(f\"{mse=}\\n{mae=}\\n{r2=}\")\n",
    "print(\"~\"*25)\n",
    "\n",
    "# testing\n",
    "\n",
    "yp_test=knn_reg.predict(x_test)\n",
    "mse=mean_squared_error(y_test,yp_test)\n",
    "mae=mean_absolute_error(y_test,yp_test)\n",
    "r2=r2_score(y_test,yp_test)\n",
    "\n",
    "print(f\"{mse=}\\n{mae=}\\n{r2=}\")"
   ]
  },
  {
   "cell_type": "markdown",
   "id": "f70d3adb",
   "metadata": {},
   "source": [
    "##### hyper parameter tuning"
   ]
  },
  {
   "cell_type": "code",
   "execution_count": 24,
   "id": "a20aa2f6",
   "metadata": {},
   "outputs": [
    {
     "data": {
      "text/plain": [
       "Text(0.5, 1.0, 'plot of k and r2')"
      ]
     },
     "execution_count": 24,
     "metadata": {},
     "output_type": "execute_result"
    },
    {
     "data": {
      "image/png": "[encoded data removed]",
      "text/plain": [
       "<Figure size 1584x720 with 1 Axes>"
      ]
     },
     "metadata": {
      "needs_background": "light"
     },
     "output_type": "display_data"
    }
   ],
   "source": [
    "r2_testlist=[]\n",
    "r2_trainlist=[]\n",
    "k_values=np.arange(2,35)\n",
    "for k in k_values:\n",
    "    knn_reg=KNeighborsRegressor(n_neighbors=k)\n",
    "    knn_reg.fit(x_train,y_train)\n",
    "#     training\n",
    "    r2train=knn_reg.score(x_train,y_train)\n",
    "    r2_trainlist.append(r2train)\n",
    "#     testing\n",
    "    r2test=knn_reg.score(x_test,y_test)\n",
    "    r2_testlist.append(r2test)\n",
    "plt.figure(figsize=(22,10))\n",
    "plt.plot(k_values,r2_testlist,color=\"Green\")\n",
    "plt.plot(k_values,r2_trainlist,color=\"Grey\")\n",
    "plt.xlabel(\"K_Values\")\n",
    "plt.ylabel(\"R_squared\")\n",
    "plt.title(\"plot of k and r2\")"
   ]
  },
  {
   "cell_type": "code",
   "execution_count": 25,
   "id": "0c69f819",
   "metadata": {},
   "outputs": [
    {
     "data": {
      "text/plain": [
       "Text(0.5, 1.0, 'plot of k and r2')"
      ]
     },
     "execution_count": 25,
     "metadata": {},
     "output_type": "execute_result"
    },
    {
     "data": {
      "image/png": "[encoded data removed]",
      "text/plain": [
       "<Figure size 1584x720 with 1 Axes>"
      ]
     },
     "metadata": {
      "needs_background": "light"
     },
     "output_type": "display_data"
    }
   ],
   "source": [
    "r2_testlist=[]\n",
    "r2_trainlist=[]\n",
    "k_values=np.arange(2,35)\n",
    "for k in k_values:\n",
    "    knn_reg=KNeighborsRegressor(n_neighbors=k,p=1)\n",
    "    knn_reg.fit(x_train,y_train)\n",
    "#     training\n",
    "    r2train=knn_reg.score(x_train,y_train)\n",
    "    r2_trainlist.append(r2train)\n",
    "#     testing\n",
    "    r2test=knn_reg.score(x_test,y_test)\n",
    "    r2_testlist.append(r2test)\n",
    "plt.figure(figsize=(22,10))\n",
    "plt.plot(k_values,r2_testlist,color=\"Green\")\n",
    "plt.plot(k_values,r2_trainlist,color=\"Grey\")\n",
    "plt.xlabel(\"K_Values\")\n",
    "plt.ylabel(\"R_squared\")\n",
    "plt.title(\"plot of k and r2\")"
   ]
  },
  {
   "cell_type": "markdown",
   "id": "fb199433",
   "metadata": {},
   "source": [
    "##### Gridsearchcv"
   ]
  },
  {
   "cell_type": "code",
   "execution_count": 26,
   "id": "90e4ecc4",
   "metadata": {},
   "outputs": [
    {
     "data": {
      "text/plain": [
       "KNeighborsRegressor(n_neighbors=3, p=1)"
      ]
     },
     "execution_count": 26,
     "metadata": {},
     "output_type": "execute_result"
    }
   ],
   "source": [
    "knn_reg=KNeighborsRegressor()\n",
    "hyperparameter={\"n_neighbors\":np.arange(2,35),\"p\":[1,2]}\n",
    "gscv_knn_reg=GridSearchCV(knn_reg,hyperparameter,cv=5)\n",
    "gscv_knn_reg.fit(x_train,y_train)\n",
    "gscv_knn_reg.best_estimator_"
   ]
  },
  {
   "cell_type": "code",
   "execution_count": 27,
   "id": "72061426",
   "metadata": {},
   "outputs": [
    {
     "data": {
      "text/plain": [
       "KNeighborsRegressor(n_neighbors=3, p=1)"
      ]
     },
     "execution_count": 27,
     "metadata": {},
     "output_type": "execute_result"
    }
   ],
   "source": [
    "knn_reg=KNeighborsRegressor(n_neighbors=3, p=1)\n",
    "knn_reg.fit(x_train,y_train)"
   ]
  },
  {
   "cell_type": "code",
   "execution_count": 28,
   "id": "a336c830",
   "metadata": {},
   "outputs": [
    {
     "name": "stdout",
     "output_type": "stream",
     "text": [
      "mse=13.335665566556656\n",
      "mae=2.1419141914191417\n",
      "r2=0.8816675573860138\n",
      "~~~~~~~~~~~~~~~~~~~~~~~~~\n",
      "mse=25.153344226579506\n",
      "mae=3.219281045751634\n",
      "r2=0.7072558402891893\n"
     ]
    }
   ],
   "source": [
    "# training\n",
    "\n",
    "yp_train=knn_reg.predict(x_train)\n",
    "mse=mean_squared_error(y_train,yp_train)\n",
    "mae=mean_absolute_error(y_train,yp_train)\n",
    "r2=r2_score(y_train,yp_train)\n",
    "\n",
    "print(f\"{mse=}\\n{mae=}\\n{r2=}\")\n",
    "print(\"~\"*25)\n",
    "\n",
    "# testing\n",
    "\n",
    "yp_test=knn_reg.predict(x_test)\n",
    "mse=mean_squared_error(y_test,yp_test)\n",
    "mae=mean_absolute_error(y_test,yp_test)\n",
    "r2=r2_score(y_test,yp_test)\n",
    "\n",
    "print(f\"{mse=}\\n{mae=}\\n{r2=}\")"
   ]
  },
  {
   "cell_type": "markdown",
   "id": "ee384539",
   "metadata": {},
   "source": [
    "##### randomizedsearchcv"
   ]
  },
  {
   "cell_type": "code",
   "execution_count": 29,
   "id": "21314524",
   "metadata": {},
   "outputs": [
    {
     "data": {
      "text/plain": [
       "KNeighborsRegressor(n_neighbors=3, p=1)"
      ]
     },
     "execution_count": 29,
     "metadata": {},
     "output_type": "execute_result"
    }
   ],
   "source": [
    "knn_reg=KNeighborsRegressor()\n",
    "hyperparameter={\"n_neighbors\":np.arange(2,35),\"p\":[1,2]}\n",
    "racv_knn_reg=RandomizedSearchCV(knn_reg,hyperparameter,cv=5)\n",
    "racv_knn_reg.fit(x_train,y_train)\n",
    "racv_knn_reg.best_estimator_"
   ]
  },
  {
   "cell_type": "code",
   "execution_count": 30,
   "id": "365d4296",
   "metadata": {},
   "outputs": [
    {
     "data": {
      "text/plain": [
       "KNeighborsRegressor(n_neighbors=2, p=1)"
      ]
     },
     "execution_count": 30,
     "metadata": {},
     "output_type": "execute_result"
    }
   ],
   "source": [
    "knn_reg=KNeighborsRegressor(n_neighbors=2, p=1)\n",
    "knn_reg.fit(x_train,y_train)"
   ]
  },
  {
   "cell_type": "code",
   "execution_count": 31,
   "id": "3b728fe3",
   "metadata": {},
   "outputs": [
    {
     "name": "stdout",
     "output_type": "stream",
     "text": [
      "mse=7.264226485148516\n",
      "mae=1.5709158415841586\n",
      "r2=0.9355417500987326\n",
      "~~~~~~~~~~~~~~~~~~~~~~~~~\n",
      "mse=23.978112745098034\n",
      "mae=3.2397058823529417\n",
      "r2=0.7209336299863713\n"
     ]
    }
   ],
   "source": [
    "# training\n",
    "\n",
    "yp_train=knn_reg.predict(x_train)\n",
    "mse=mean_squared_error(y_train,yp_train)\n",
    "mae=mean_absolute_error(y_train,yp_train)\n",
    "r2=r2_score(y_train,yp_train)\n",
    "\n",
    "print(f\"{mse=}\\n{mae=}\\n{r2=}\")\n",
    "print(\"~\"*25)\n",
    "\n",
    "# testing\n",
    "\n",
    "yp_test=knn_reg.predict(x_test)\n",
    "mse=mean_squared_error(y_test,yp_test)\n",
    "mae=mean_absolute_error(y_test,yp_test)\n",
    "r2=r2_score(y_test,yp_test)\n",
    "\n",
    "print(f\"{mse=}\\n{mae=}\\n{r2=}\")"
   ]
  },
  {
   "cell_type": "markdown",
   "id": "65071f82",
   "metadata": {},
   "source": [
    "##### standardization"
   ]
  },
  {
   "cell_type": "code",
   "execution_count": 32,
   "id": "3117618a",
   "metadata": {},
   "outputs": [],
   "source": [
    "std=StandardScaler()\n",
    "array=std.fit_transform(x_train)\n",
    "array1= std.fit_transform(x_test)\n",
    "std_x_test = pd.DataFrame(array1,columns=x_test.columns)\n",
    "std_x_train=pd.DataFrame(array,columns=x_train.columns)"
   ]
  },
  {
   "cell_type": "code",
   "execution_count": 33,
   "id": "f64fb31f",
   "metadata": {},
   "outputs": [
    {
     "data": {
      "text/plain": [
       "KNeighborsRegressor(n_neighbors=2, p=1)"
      ]
     },
     "execution_count": 33,
     "metadata": {},
     "output_type": "execute_result"
    }
   ],
   "source": [
    "knn_reg=KNeighborsRegressor(n_neighbors=2,p=1)\n",
    "knn_reg.fit(std_x_train,y_train)"
   ]
  },
  {
   "cell_type": "code",
   "execution_count": 34,
   "id": "b351a0cd",
   "metadata": {},
   "outputs": [
    {
     "name": "stdout",
     "output_type": "stream",
     "text": [
      "mse=5.756280940594061\n",
      "mae=1.3451732673267327\n",
      "r2=0.9489223255732329\n",
      "~~~~~~~~~~~~~~~~~~~~~~~~~\n",
      "mse=21.34598039215686\n",
      "mae=2.746078431372548\n",
      "r2=0.7515673845666142\n"
     ]
    }
   ],
   "source": [
    "# training\n",
    "\n",
    "yp_train=knn_reg.predict(std_x_train)\n",
    "mse=mean_squared_error(y_train,yp_train)\n",
    "mae=mean_absolute_error(y_train,yp_train)\n",
    "r2=r2_score(y_train,yp_train)\n",
    "\n",
    "print(f\"{mse=}\\n{mae=}\\n{r2=}\")\n",
    "print(\"~\"*25)\n",
    "\n",
    "# testing\n",
    "\n",
    "yp_test=knn_reg.predict(std_x_test)\n",
    "mse=mean_squared_error(y_test,yp_test)\n",
    "mae=mean_absolute_error(y_test,yp_test)\n",
    "r2=r2_score(y_test,yp_test)\n",
    "\n",
    "print(f\"{mse=}\\n{mae=}\\n{r2=}\")"
   ]
  },
  {
   "cell_type": "markdown",
   "id": "f0312c0e",
   "metadata": {},
   "source": [
    "### API"
   ]
  },
  {
   "cell_type": "code",
   "execution_count": 35,
   "id": "20660ee0",
   "metadata": {},
   "outputs": [],
   "source": [
    "project_Data={\"columns\":list(x.columns)}"
   ]
  },
  {
   "cell_type": "code",
   "execution_count": 36,
   "id": "7a0d8ff7",
   "metadata": {},
   "outputs": [],
   "source": [
    "a=CRIM=2\n",
    "b=ZN=2\n",
    "c=INDUS=2\n",
    "d=CHAS=2\n",
    "e=NOX=2\n",
    "f=RM=2\n",
    "g=AGE=2\n",
    "h=DIS=2\n",
    "i=RAD=2\n",
    "j=TAX=2\n",
    "k=PTRATIO=2\n",
    "l=B=2\n",
    "m=LSTAT=2\n",
    "\n",
    "#price=?"
   ]
  },
  {
   "cell_type": "code",
   "execution_count": 37,
   "id": "ffb1cffa",
   "metadata": {},
   "outputs": [
    {
     "data": {
      "text/plain": [
       "array([0., 0., 0., 0., 0., 0., 0., 0., 0., 0., 0., 0., 0.])"
      ]
     },
     "execution_count": 37,
     "metadata": {},
     "output_type": "execute_result"
    }
   ],
   "source": [
    "test_array=np.zeros(13)\n",
    "test_array"
   ]
  },
  {
   "cell_type": "code",
   "execution_count": 38,
   "id": "a78a22a4",
   "metadata": {},
   "outputs": [],
   "source": [
    "test_array[0]=a\n",
    "test_array[1]=b\n",
    "test_array[2]=c\n",
    "test_array[3]=d\n",
    "test_array[4]=e\n",
    "test_array[5]=f\n",
    "test_array[6]=g\n",
    "test_array[7]=h\n",
    "test_array[8]=i\n",
    "test_array[9]=j\n",
    "test_array[10]=k\n",
    "test_array[11]=l\n",
    "test_array[12]=m"
   ]
  },
  {
   "cell_type": "code",
   "execution_count": 39,
   "id": "3aca3afd",
   "metadata": {},
   "outputs": [
    {
     "data": {
      "text/plain": [
       "array([2., 2., 2., 2., 2., 2., 2., 2., 2., 2., 2., 2., 2.])"
      ]
     },
     "execution_count": 39,
     "metadata": {},
     "output_type": "execute_result"
    }
   ],
   "source": [
    "test_array"
   ]
  },
  {
   "cell_type": "code",
   "execution_count": 40,
   "id": "86153063",
   "metadata": {},
   "outputs": [
    {
     "data": {
      "text/plain": [
       "array([14.6])"
      ]
     },
     "execution_count": 40,
     "metadata": {},
     "output_type": "execute_result"
    }
   ],
   "source": [
    "price=knn_reg.predict([test_array])\n",
    "price"
   ]
  },
  {
   "cell_type": "code",
   "execution_count": 42,
   "id": "9282da65",
   "metadata": {},
   "outputs": [
    {
     "data": {
      "text/html": [
       "<div>\n",
       "<style scoped>\n",
       "    .dataframe tbody tr th:only-of-type {\n",
       "        vertical-align: middle;\n",
       "    }\n",
       "\n",
       "    .dataframe tbody tr th {\n",
       "        vertical-align: top;\n",
       "    }\n",
       "\n",
       "    .dataframe thead th {\n",
       "        text-align: right;\n",
       "    }\n",
       "</style>\n",
       "<table border=\"1\" class=\"dataframe\">\n",
       "  <thead>\n",
       "    <tr style=\"text-align: right;\">\n",
       "      <th></th>\n",
       "      <th>CRIM</th>\n",
       "      <th>ZN</th>\n",
       "      <th>INDUS</th>\n",
       "      <th>CHAS</th>\n",
       "      <th>NOX</th>\n",
       "      <th>RM</th>\n",
       "      <th>AGE</th>\n",
       "      <th>DIS</th>\n",
       "      <th>RAD</th>\n",
       "      <th>TAX</th>\n",
       "      <th>PTRATIO</th>\n",
       "      <th>B</th>\n",
       "      <th>LSTAT</th>\n",
       "    </tr>\n",
       "  </thead>\n",
       "  <tbody>\n",
       "    <tr>\n",
       "      <th>456</th>\n",
       "      <td>4.668830</td>\n",
       "      <td>0.0</td>\n",
       "      <td>18.10</td>\n",
       "      <td>0.0</td>\n",
       "      <td>0.713</td>\n",
       "      <td>5.976</td>\n",
       "      <td>87.9</td>\n",
       "      <td>2.5806</td>\n",
       "      <td>24.0</td>\n",
       "      <td>666.0</td>\n",
       "      <td>20.2</td>\n",
       "      <td>380.113033</td>\n",
       "      <td>19.01</td>\n",
       "    </tr>\n",
       "    <tr>\n",
       "      <th>118</th>\n",
       "      <td>0.130580</td>\n",
       "      <td>0.0</td>\n",
       "      <td>10.01</td>\n",
       "      <td>0.0</td>\n",
       "      <td>0.547</td>\n",
       "      <td>5.872</td>\n",
       "      <td>73.1</td>\n",
       "      <td>2.4775</td>\n",
       "      <td>6.0</td>\n",
       "      <td>432.0</td>\n",
       "      <td>17.8</td>\n",
       "      <td>338.630000</td>\n",
       "      <td>15.37</td>\n",
       "    </tr>\n",
       "    <tr>\n",
       "      <th>477</th>\n",
       "      <td>1.198341</td>\n",
       "      <td>0.0</td>\n",
       "      <td>18.10</td>\n",
       "      <td>0.0</td>\n",
       "      <td>0.614</td>\n",
       "      <td>5.304</td>\n",
       "      <td>97.3</td>\n",
       "      <td>2.1007</td>\n",
       "      <td>24.0</td>\n",
       "      <td>666.0</td>\n",
       "      <td>20.2</td>\n",
       "      <td>349.480000</td>\n",
       "      <td>24.91</td>\n",
       "    </tr>\n",
       "    <tr>\n",
       "      <th>76</th>\n",
       "      <td>0.101530</td>\n",
       "      <td>0.0</td>\n",
       "      <td>12.83</td>\n",
       "      <td>0.0</td>\n",
       "      <td>0.437</td>\n",
       "      <td>6.279</td>\n",
       "      <td>74.5</td>\n",
       "      <td>4.0522</td>\n",
       "      <td>5.0</td>\n",
       "      <td>398.0</td>\n",
       "      <td>18.7</td>\n",
       "      <td>373.660000</td>\n",
       "      <td>11.97</td>\n",
       "    </tr>\n",
       "    <tr>\n",
       "      <th>104</th>\n",
       "      <td>0.139600</td>\n",
       "      <td>0.0</td>\n",
       "      <td>8.56</td>\n",
       "      <td>0.0</td>\n",
       "      <td>0.520</td>\n",
       "      <td>6.167</td>\n",
       "      <td>90.0</td>\n",
       "      <td>2.4210</td>\n",
       "      <td>5.0</td>\n",
       "      <td>384.0</td>\n",
       "      <td>20.9</td>\n",
       "      <td>392.690000</td>\n",
       "      <td>12.33</td>\n",
       "    </tr>\n",
       "  </tbody>\n",
       "</table>\n",
       "</div>"
      ],
      "text/plain": [
       "         CRIM   ZN  INDUS  CHAS    NOX     RM   AGE     DIS   RAD    TAX  \\\n",
       "456  4.668830  0.0  18.10   0.0  0.713  5.976  87.9  2.5806  24.0  666.0   \n",
       "118  0.130580  0.0  10.01   0.0  0.547  5.872  73.1  2.4775   6.0  432.0   \n",
       "477  1.198341  0.0  18.10   0.0  0.614  5.304  97.3  2.1007  24.0  666.0   \n",
       "76   0.101530  0.0  12.83   0.0  0.437  6.279  74.5  4.0522   5.0  398.0   \n",
       "104  0.139600  0.0   8.56   0.0  0.520  6.167  90.0  2.4210   5.0  384.0   \n",
       "\n",
       "     PTRATIO           B  LSTAT  \n",
       "456     20.2  380.113033  19.01  \n",
       "118     17.8  338.630000  15.37  \n",
       "477     20.2  349.480000  24.91  \n",
       "76      18.7  373.660000  11.97  \n",
       "104     20.9  392.690000  12.33  "
      ]
     },
     "execution_count": 42,
     "metadata": {},
     "output_type": "execute_result"
    }
   ],
   "source": [
    "x_train.head()"
   ]
  },
  {
   "cell_type": "code",
   "execution_count": null,
   "id": "fc09778d",
   "metadata": {},
   "outputs": [],
   "source": []
  },
  {
   "cell_type": "code",
   "execution_count": 76,
   "id": "8564a939",
   "metadata": {},
   "outputs": [],
   "source": [
    "with open (\"standardizer.pkl\",\"wb\") as file:\n",
    "    pickle.dump(std,file)"
   ]
  },
  {
   "cell_type": "code",
   "execution_count": 77,
   "id": "a203a0a4",
   "metadata": {},
   "outputs": [],
   "source": [
    "with open (\"knnmodel.pkl\",\"wb\") as file:\n",
    "    pickle.dump(knn_reg,file)"
   ]
  },
  {
   "cell_type": "code",
   "execution_count": 78,
   "id": "aefacdaf",
   "metadata": {},
   "outputs": [],
   "source": [
    "with open(\"featuredata.json\",\"w\") as file:\n",
    "    json.dump(project_Data,file)"
   ]
  },
  {
   "cell_type": "markdown",
   "id": "3dfa3bd2",
   "metadata": {},
   "source": [
    "### Deployment"
   ]
  },
  {
   "cell_type": "raw",
   "id": "3e1e26a8",
   "metadata": {},
   "source": [
    "model ready for deployment"
   ]
  }
 ],
 "metadata": {
  "kernelspec": {
   "display_name": "Python 3 (ipykernel)",
   "language": "python",
   "name": "python3"
  },
  "language_info": {
   "codemirror_mode": {
    "name": "ipython",
    "version": 3
   },
   "file_extension": ".py",
   "mimetype": "text/x-python",
   "name": "python",
   "nbconvert_exporter": "python",
   "pygments_lexer": "ipython3",
   "version": "3.9.12"
  }
 },
 "nbformat": 4,
 "nbformat_minor": 5
}
